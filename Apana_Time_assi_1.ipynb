{
  "nbformat": 4,
  "nbformat_minor": 0,
  "metadata": {
    "colab": {
      "provenance": [],
      "authorship_tag": "ABX9TyOXozf8HebeNvkb8saREvKv",
      "include_colab_link": true
    },
    "kernelspec": {
      "name": "python3",
      "display_name": "Python 3"
    },
    "language_info": {
      "name": "python"
    }
  },
  "cells": [
    {
      "cell_type": "markdown",
      "metadata": {
        "id": "view-in-github",
        "colab_type": "text"
      },
      "source": [
        "<a href=\"https://colab.research.google.com/github/subuzz/ApanaTime/blob/main/Apana_Time_assi_1.ipynb\" target=\"_parent\"><img src=\"https://colab.research.google.com/assets/colab-badge.svg\" alt=\"Open In Colab\"/></a>"
      ]
    },
    {
      "cell_type": "code",
      "execution_count": 1,
      "metadata": {
        "id": "e1IR9Tcb9OaQ"
      },
      "outputs": [],
      "source": [
        "import pandas as pd\n",
        "import numpy as np\n",
        "from scipy import stats\n",
        "file_path = \"/content/Data set (2).xlsx\"\n",
        "data = pd.read_excel(file_path)"
      ]
    },
    {
      "cell_type": "code",
      "source": [
        "print(\"----- Dataset Info -----\")\n",
        "print(data.info())\n",
        "print(\"\\n----- First 5 Rows of Dataset -----\")\n",
        "print(data.head())"
      ],
      "metadata": {
        "colab": {
          "base_uri": "https://localhost:8080/"
        },
        "id": "O_lVmFiZ9i6m",
        "outputId": "e7a28164-3a46-438f-cbbc-0d6889ccdd1a"
      },
      "execution_count": 4,
      "outputs": [
        {
          "output_type": "stream",
          "name": "stdout",
          "text": [
            "----- Dataset Info -----\n",
            "<class 'pandas.core.frame.DataFrame'>\n",
            "RangeIndex: 1107 entries, 0 to 1106\n",
            "Data columns (total 19 columns):\n",
            " #   Column                                Non-Null Count  Dtype         \n",
            "---  ------                                --------------  -----         \n",
            " 0   Date                                  1107 non-null   datetime64[ns]\n",
            " 1   Coal_RB_4800_FOB_London_Close_USD     1068 non-null   float64       \n",
            " 2   Coal_RB_5500_FOB_London_Close_USD     1068 non-null   float64       \n",
            " 3   Coal_RB_5700_FOB_London_Close_USD     1068 non-null   float64       \n",
            " 4   Coal_RB_6000_FOB_CurrentWeek_Avg_USD  1084 non-null   float64       \n",
            " 5   Coal_India_5500_CFR_London_Close_USD  1068 non-null   float64       \n",
            " 6   Price_WTI                             1099 non-null   float64       \n",
            " 7   Price_Brent_Oil                       1096 non-null   float64       \n",
            " 8   Price_Dubai_Brent_Oil                 1067 non-null   float64       \n",
            " 9   Price_ExxonMobil                      1067 non-null   float64       \n",
            " 10  Price_Shenhua                         1042 non-null   float64       \n",
            " 11  Price_All_Share                       1058 non-null   float64       \n",
            " 12  Price_Mining                          1058 non-null   float64       \n",
            " 13  Price_LNG_Japan_Korea_Marker_PLATTS   1066 non-null   float64       \n",
            " 14  Price_ZAR_USD                         1107 non-null   float64       \n",
            " 15  Price_Natural_Gas                     1099 non-null   float64       \n",
            " 16  Price_ICE                             1067 non-null   float64       \n",
            " 17  Price_Dutch_TTF                       1076 non-null   float64       \n",
            " 18  Price_Indian_en_exg_rate              1047 non-null   float64       \n",
            "dtypes: datetime64[ns](1), float64(18)\n",
            "memory usage: 164.4 KB\n",
            "None\n",
            "\n",
            "----- First 5 Rows of Dataset -----\n",
            "        Date  Coal_RB_4800_FOB_London_Close_USD  \\\n",
            "0 2020-04-02                              41.00   \n",
            "1 2020-04-03                              40.34   \n",
            "2 2020-04-06                              40.34   \n",
            "3 2020-04-07                              40.34   \n",
            "4 2020-04-08                              40.34   \n",
            "\n",
            "   Coal_RB_5500_FOB_London_Close_USD  Coal_RB_5700_FOB_London_Close_USD  \\\n",
            "0                              53.22                               64.7   \n",
            "1                              52.36                               63.1   \n",
            "2                              52.36                               63.1   \n",
            "3                              52.36                               63.1   \n",
            "4                              52.36                               63.1   \n",
            "\n",
            "   Coal_RB_6000_FOB_CurrentWeek_Avg_USD  Coal_India_5500_CFR_London_Close_USD  \\\n",
            "0                                 97.56                                 60.50   \n",
            "1                                 70.57                                 62.03   \n",
            "2                                 70.57                                 62.03   \n",
            "3                                 70.57                                 62.03   \n",
            "4                                 70.57                                 62.03   \n",
            "\n",
            "   Price_WTI  Price_Brent_Oil  Price_Dubai_Brent_Oil  Price_ExxonMobil  \\\n",
            "0      25.32            29.94                  26.16             40.40   \n",
            "1      28.34            34.11                  29.39             39.21   \n",
            "2      26.08            33.05                  27.45             40.47   \n",
            "3      23.63            31.87                  26.00             41.24   \n",
            "4      25.09            32.84                  26.16             43.85   \n",
            "\n",
            "   Price_Shenhua  Price_All_Share  Price_Mining  \\\n",
            "0          14.58         45060.69      35562.37   \n",
            "1          14.14         44598.70      35258.30   \n",
            "2          14.26         46240.35      37032.31   \n",
            "3          14.46         47496.72      38362.12   \n",
            "4          14.24         46689.90      37469.17   \n",
            "\n",
            "   Price_LNG_Japan_Korea_Marker_PLATTS  Price_ZAR_USD  Price_Natural_Gas  \\\n",
            "0                                2.860        0.05411              1.552   \n",
            "1                                2.845        0.05245              1.621   \n",
            "2                                2.850        0.05351              1.731   \n",
            "3                                2.805        0.05457              1.852   \n",
            "4                                2.810        0.05493              1.783   \n",
            "\n",
            "   Price_ICE  Price_Dutch_TTF  Price_Indian_en_exg_rate  \n",
            "0      81.14            6.935                       NaN  \n",
            "1      80.99            6.920                     45.02  \n",
            "2      84.43            7.285                       NaN  \n",
            "3      82.30            7.285                     48.32  \n",
            "4      85.34            7.260                     45.75  \n"
          ]
        }
      ]
    },
    {
      "cell_type": "code",
      "source": [
        "print(\"\\n----- Measures of Central Tendency -----\")\n",
        "mean_values = data.mean(numeric_only=True)\n",
        "median_values = data.median(numeric_only=True)\n",
        "mode_values = data.mode(numeric_only=True).iloc[0]\n",
        "print(\"Mean:\\n\", mean_values)\n",
        "print(\"\\nMedian:\\n\", median_values)\n",
        "print(\"\\nMode:\\n\", mode_values)\n"
      ],
      "metadata": {
        "colab": {
          "base_uri": "https://localhost:8080/"
        },
        "id": "xMOGiine9pUn",
        "outputId": "fb62db8c-2a1d-4e88-fb24-369652d20083"
      },
      "execution_count": 6,
      "outputs": [
        {
          "output_type": "stream",
          "name": "stdout",
          "text": [
            "\n",
            "----- Measures of Central Tendency -----\n",
            "Mean:\n",
            " Coal_RB_4800_FOB_London_Close_USD          87.953184\n",
            "Coal_RB_5500_FOB_London_Close_USD         113.353155\n",
            "Coal_RB_5700_FOB_London_Close_USD         134.971807\n",
            "Coal_RB_6000_FOB_CurrentWeek_Avg_USD      144.351494\n",
            "Coal_India_5500_CFR_London_Close_USD      123.759710\n",
            "Price_WTI                                  72.345469\n",
            "Price_Brent_Oil                            76.283020\n",
            "Price_Dubai_Brent_Oil                      74.752493\n",
            "Price_ExxonMobil                           80.871012\n",
            "Price_Shenhua                              21.274702\n",
            "Price_All_Share                         68736.904811\n",
            "Price_Mining                            52972.178374\n",
            "Price_LNG_Japan_Korea_Marker_PLATTS        17.622529\n",
            "Price_ZAR_USD                               0.059943\n",
            "Price_Natural_Gas                           3.697999\n",
            "Price_ICE                                 112.756111\n",
            "Price_Dutch_TTF                            57.384856\n",
            "Price_Indian_en_exg_rate                  141.616027\n",
            "dtype: float64\n",
            "\n",
            "Median:\n",
            " Coal_RB_4800_FOB_London_Close_USD          76.19000\n",
            "Coal_RB_5500_FOB_London_Close_USD          95.80000\n",
            "Coal_RB_5700_FOB_London_Close_USD         108.91000\n",
            "Coal_RB_6000_FOB_CurrentWeek_Avg_USD      115.27000\n",
            "Coal_India_5500_CFR_London_Close_USD      111.20000\n",
            "Price_WTI                                  75.67000\n",
            "Price_Brent_Oil                            79.96000\n",
            "Price_Dubai_Brent_Oil                      78.79000\n",
            "Price_ExxonMobil                           86.41000\n",
            "Price_Shenhua                              22.32500\n",
            "Price_All_Share                         70089.08500\n",
            "Price_Mining                            53270.24500\n",
            "Price_LNG_Japan_Korea_Marker_PLATTS        12.90250\n",
            "Price_ZAR_USD                               0.05872\n",
            "Price_Natural_Gas                           2.86300\n",
            "Price_ICE                                 111.96000\n",
            "Price_Dutch_TTF                            35.83850\n",
            "Price_Indian_en_exg_rate                  140.90000\n",
            "dtype: float64\n",
            "\n",
            "Mode:\n",
            " Coal_RB_4800_FOB_London_Close_USD          33.86000\n",
            "Coal_RB_5500_FOB_London_Close_USD          47.56000\n",
            "Coal_RB_5700_FOB_London_Close_USD          50.12000\n",
            "Coal_RB_6000_FOB_CurrentWeek_Avg_USD      115.27000\n",
            "Coal_India_5500_CFR_London_Close_USD       41.81000\n",
            "Price_WTI                                  78.26000\n",
            "Price_Brent_Oil                            72.22000\n",
            "Price_Dubai_Brent_Oil                      43.78000\n",
            "Price_ExxonMobil                           64.31000\n",
            "Price_Shenhua                              24.75000\n",
            "Price_All_Share                         44598.70000\n",
            "Price_Mining                            35258.30000\n",
            "Price_LNG_Japan_Korea_Marker_PLATTS         2.00000\n",
            "Price_ZAR_USD                               0.05273\n",
            "Price_Natural_Gas                           2.49200\n",
            "Price_ICE                                  90.40000\n",
            "Price_Dutch_TTF                            13.90000\n",
            "Price_Indian_en_exg_rate                  145.10000\n",
            "Name: 0, dtype: float64\n"
          ]
        }
      ]
    },
    {
      "cell_type": "code",
      "source": [
        "print(\"\\n----- Measures of Dispersion -----\")\n",
        "variance_values = data.var(numeric_only=True)\n",
        "std_dev_values = data.std(numeric_only=True)\n",
        "range_values = data.max(numeric_only=True) - data.min(numeric_only=True)\n",
        "\n",
        "print(\"Variance:\\n\", variance_values)\n",
        "print(\"\\nStandard Deviation:\\n\", std_dev_values)\n",
        "print(\"\\nRange:\\n\", range_values)"
      ],
      "metadata": {
        "colab": {
          "base_uri": "https://localhost:8080/"
        },
        "id": "H6Dw0y8K-JI2",
        "outputId": "a06d10d2-85cf-4c2a-a19c-a6a340a65c3d"
      },
      "execution_count": 7,
      "outputs": [
        {
          "output_type": "stream",
          "name": "stdout",
          "text": [
            "\n",
            "----- Measures of Dispersion -----\n",
            "Variance:\n",
            " Coal_RB_4800_FOB_London_Close_USD       2.237619e+03\n",
            "Coal_RB_5500_FOB_London_Close_USD       3.982292e+03\n",
            "Coal_RB_5700_FOB_London_Close_USD       6.001971e+03\n",
            "Coal_RB_6000_FOB_CurrentWeek_Avg_USD    6.972281e+03\n",
            "Coal_India_5500_CFR_London_Close_USD    3.192492e+03\n",
            "Price_WTI                               4.245831e+02\n",
            "Price_Brent_Oil                         4.294504e+02\n",
            "Price_Dubai_Brent_Oil                   4.204883e+02\n",
            "Price_ExxonMobil                        7.712787e+02\n",
            "Price_Shenhua                           3.765394e+01\n",
            "Price_All_Share                         6.286333e+07\n",
            "Price_Mining                            4.952807e+07\n",
            "Price_LNG_Japan_Korea_Marker_PLATTS     1.617135e+02\n",
            "Price_ZAR_USD                           3.681609e-05\n",
            "Price_Natural_Gas                       3.690917e+00\n",
            "Price_ICE                               1.885030e+02\n",
            "Price_Dutch_TTF                         2.843977e+03\n",
            "Price_Indian_en_exg_rate                2.931929e+03\n",
            "dtype: float64\n",
            "\n",
            "Standard Deviation:\n",
            " Coal_RB_4800_FOB_London_Close_USD         47.303473\n",
            "Coal_RB_5500_FOB_London_Close_USD         63.105405\n",
            "Coal_RB_5700_FOB_London_Close_USD         77.472391\n",
            "Coal_RB_6000_FOB_CurrentWeek_Avg_USD      83.500186\n",
            "Coal_India_5500_CFR_London_Close_USD      56.502138\n",
            "Price_WTI                                 20.605415\n",
            "Price_Brent_Oil                           20.723186\n",
            "Price_Dubai_Brent_Oil                     20.505811\n",
            "Price_ExxonMobil                          27.771904\n",
            "Price_Shenhua                              6.136281\n",
            "Price_All_Share                         7928.639789\n",
            "Price_Mining                            7037.617925\n",
            "Price_LNG_Japan_Korea_Marker_PLATTS       12.716663\n",
            "Price_ZAR_USD                              0.006068\n",
            "Price_Natural_Gas                          1.921176\n",
            "Price_ICE                                 13.729638\n",
            "Price_Dutch_TTF                           53.328953\n",
            "Price_Indian_en_exg_rate                  54.147294\n",
            "dtype: float64\n",
            "\n",
            "Range:\n",
            " Coal_RB_4800_FOB_London_Close_USD         274.34000\n",
            "Coal_RB_5500_FOB_London_Close_USD         325.68000\n",
            "Coal_RB_5700_FOB_London_Close_USD         367.66000\n",
            "Coal_RB_6000_FOB_CurrentWeek_Avg_USD      383.69000\n",
            "Coal_India_5500_CFR_London_Close_USD      271.08000\n",
            "Price_WTI                                 161.33000\n",
            "Price_Brent_Oil                           108.65000\n",
            "Price_Dubai_Brent_Oil                     103.46000\n",
            "Price_ExxonMobil                           90.63000\n",
            "Price_Shenhua                              28.24000\n",
            "Price_All_Share                         36192.66000\n",
            "Price_Mining                            39927.46000\n",
            "Price_LNG_Japan_Korea_Marker_PLATTS        67.96000\n",
            "Price_ZAR_USD                               0.02388\n",
            "Price_Natural_Gas                           8.16500\n",
            "Price_ICE                                  58.44000\n",
            "Price_Dutch_TTF                           335.68500\n",
            "Price_Indian_en_exg_rate                  250.23000\n",
            "dtype: float64\n"
          ]
        }
      ]
    },
    {
      "cell_type": "code",
      "source": [
        "print(\"\\n----- Skewness and Kurtosis -----\")\n",
        "skewness_values = data.skew(numeric_only=True)\n",
        "kurtosis_values = data.kurtosis(numeric_only=True)\n",
        "\n",
        "print(\"Skewness:\\n\", skewness_values)\n",
        "print(\"\\nKurtosis:\\n\", kurtosis_values)\n"
      ],
      "metadata": {
        "colab": {
          "base_uri": "https://localhost:8080/"
        },
        "id": "P4PJjGQh-PZG",
        "outputId": "c0fe5ddb-0c52-4bbb-912e-f9d0f721fe55"
      },
      "execution_count": 8,
      "outputs": [
        {
          "output_type": "stream",
          "name": "stdout",
          "text": [
            "\n",
            "----- Skewness and Kurtosis -----\n",
            "Skewness:\n",
            " Coal_RB_4800_FOB_London_Close_USD       1.312825\n",
            "Coal_RB_5500_FOB_London_Close_USD       1.260528\n",
            "Coal_RB_5700_FOB_London_Close_USD       1.278061\n",
            "Coal_RB_6000_FOB_CurrentWeek_Avg_USD    1.269489\n",
            "Coal_India_5500_CFR_London_Close_USD    0.862272\n",
            "Price_WTI                              -0.536349\n",
            "Price_Brent_Oil                        -0.429634\n",
            "Price_Dubai_Brent_Oil                  -0.560067\n",
            "Price_ExxonMobil                       -0.207440\n",
            "Price_Shenhua                           0.565776\n",
            "Price_All_Share                        -0.820778\n",
            "Price_Mining                            0.288418\n",
            "Price_LNG_Japan_Korea_Marker_PLATTS     1.084267\n",
            "Price_ZAR_USD                           0.347963\n",
            "Price_Natural_Gas                       1.260015\n",
            "Price_ICE                               0.222972\n",
            "Price_Dutch_TTF                         1.719477\n",
            "Price_Indian_en_exg_rate                0.371277\n",
            "dtype: float64\n",
            "\n",
            "Kurtosis:\n",
            " Coal_RB_4800_FOB_London_Close_USD       2.116484\n",
            "Coal_RB_5500_FOB_London_Close_USD       1.127323\n",
            "Coal_RB_5700_FOB_London_Close_USD       0.811808\n",
            "Coal_RB_6000_FOB_CurrentWeek_Avg_USD    0.717634\n",
            "Coal_India_5500_CFR_London_Close_USD    0.176041\n",
            "Price_WTI                               0.808288\n",
            "Price_Brent_Oil                        -0.024637\n",
            "Price_Dubai_Brent_Oil                  -0.038227\n",
            "Price_ExxonMobil                       -1.486695\n",
            "Price_Shenhua                           0.020671\n",
            "Price_All_Share                        -0.119788\n",
            "Price_Mining                           -0.362583\n",
            "Price_LNG_Japan_Korea_Marker_PLATTS     0.789421\n",
            "Price_ZAR_USD                          -1.217152\n",
            "Price_Natural_Gas                       0.660356\n",
            "Price_ICE                              -0.876720\n",
            "Price_Dutch_TTF                         3.148565\n",
            "Price_Indian_en_exg_rate               -0.091080\n",
            "dtype: float64\n"
          ]
        }
      ]
    },
    {
      "cell_type": "code",
      "source": [
        "print(\"\\n----- Missing Values in Each Column -----\")\n",
        "print(data.isnull().sum())"
      ],
      "metadata": {
        "colab": {
          "base_uri": "https://localhost:8080/"
        },
        "id": "Jn7Wd0Om-T9z",
        "outputId": "2bf6fab8-3ac8-4659-8d63-5f20c86caa38"
      },
      "execution_count": 9,
      "outputs": [
        {
          "output_type": "stream",
          "name": "stdout",
          "text": [
            "\n",
            "----- Missing Values in Each Column -----\n",
            "Date                                     0\n",
            "Coal_RB_4800_FOB_London_Close_USD       39\n",
            "Coal_RB_5500_FOB_London_Close_USD       39\n",
            "Coal_RB_5700_FOB_London_Close_USD       39\n",
            "Coal_RB_6000_FOB_CurrentWeek_Avg_USD    23\n",
            "Coal_India_5500_CFR_London_Close_USD    39\n",
            "Price_WTI                                8\n",
            "Price_Brent_Oil                         11\n",
            "Price_Dubai_Brent_Oil                   40\n",
            "Price_ExxonMobil                        40\n",
            "Price_Shenhua                           65\n",
            "Price_All_Share                         49\n",
            "Price_Mining                            49\n",
            "Price_LNG_Japan_Korea_Marker_PLATTS     41\n",
            "Price_ZAR_USD                            0\n",
            "Price_Natural_Gas                        8\n",
            "Price_ICE                               40\n",
            "Price_Dutch_TTF                         31\n",
            "Price_Indian_en_exg_rate                60\n",
            "dtype: int64\n"
          ]
        }
      ]
    }
  ]
}